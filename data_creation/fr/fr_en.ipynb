{
  "nbformat": 4,
  "nbformat_minor": 0,
  "metadata": {
    "colab": {
      "provenance": []
    },
    "kernelspec": {
      "name": "python3",
      "display_name": "Python 3"
    },
    "language_info": {
      "name": "python"
    }
  },
  "cells": [
    {
      "cell_type": "code",
      "execution_count": null,
      "metadata": {
        "id": "dLHmxkYHCLZj"
      },
      "outputs": [],
      "source": []
    },
    {
      "cell_type": "code",
      "source": [
        "!pip install transformers[sentencepiece] datasets evaluate sacremoses"
      ],
      "metadata": {
        "id": "2gqGX5q_CPb9"
      },
      "execution_count": null,
      "outputs": []
    },
    {
      "cell_type": "code",
      "source": [
        "import pandas as pd\n",
        "from transformers import AutoTokenizer, AutoModelForSeq2SeqLM\n",
        "import torch\n",
        "from tqdm import tqdm\n",
        "import os"
      ],
      "metadata": {
        "id": "Uqq_bZCfCPXt"
      },
      "execution_count": null,
      "outputs": []
    },
    {
      "cell_type": "code",
      "source": [
        "!pip install gdown --upgrade --no-cache-dir"
      ],
      "metadata": {
        "id": "P7YLVFcxCPT9"
      },
      "execution_count": null,
      "outputs": []
    },
    {
      "cell_type": "code",
      "source": [
        "!gdown https://drive.google.com/uc?id=1mO1IjTrRCcpELam4LjHybP4vTlCIQtKy"
      ],
      "metadata": {
        "id": "f-YwFTNiCPQU"
      },
      "execution_count": null,
      "outputs": []
    },
    {
      "cell_type": "code",
      "source": [
        "df = pd.read_csv(\"/kaggle/input/kaggle-22m-enfr/kaggle_22mil.csv\")\n",
        "df.head()"
      ],
      "metadata": {
        "id": "Nwy-b6PkCPNF"
      },
      "execution_count": null,
      "outputs": []
    },
    {
      "cell_type": "code",
      "source": [
        "input_texts = df.dest_text.values.tolist()\n",
        "original_english = df.source_text.values.tolist()"
      ],
      "metadata": {
        "id": "mKRvqpplCPJz"
      },
      "execution_count": null,
      "outputs": []
    },
    {
      "cell_type": "code",
      "source": [
        "BATCH_SIZE = 32"
      ],
      "metadata": {
        "id": "NTye5B9sD7sX"
      },
      "execution_count": null,
      "outputs": []
    },
    {
      "cell_type": "code",
      "source": [
        "device = \"cuda\" if torch.cuda.is_available() else \"cpu\""
      ],
      "metadata": {
        "id": "Kkp0GAO-CPG4"
      },
      "execution_count": null,
      "outputs": []
    },
    {
      "cell_type": "code",
      "source": [
        "tokenizer = AutoTokenizer.from_pretrained(\"Helsinki-NLP/opus-mt-fr-en\")\n",
        "model = AutoModelForSeq2SeqLM.from_pretrained(\"Helsinki-NLP/opus-mt-fr-en\")"
      ],
      "metadata": {
        "id": "gpqzqLiiCPDQ"
      },
      "execution_count": null,
      "outputs": []
    },
    {
      "cell_type": "code",
      "source": [
        "model.to(device)\n",
        "print(\"done\")"
      ],
      "metadata": {
        "id": "MzWfj0h0CPAB"
      },
      "execution_count": null,
      "outputs": []
    },
    {
      "cell_type": "code",
      "source": [
        "iterations = len(input_texts) // BATCH_SIZE \n",
        "if len(input_texts) % BATCH_SIZE != 0:\n",
        "    iterations += 1 \n",
        "\n",
        "infos = []\n",
        "\n",
        "for iter in tqdm(range(iterations)):\n",
        "\n",
        "    if (iter+1) * BATCH_SIZE >= len(input_texts):\n",
        "        start = iter * BATCH_SIZE\n",
        "        end = len(input_texts)\n",
        "    else:\n",
        "        start = iter * BATCH_SIZE\n",
        "        end = (iter+1) * BATCH_SIZE \n",
        "    \n",
        "    batched_text = input_texts[start:end]\n",
        "    batched_tokens = tokenizer(batched_text, return_tensors=\"pt\", padding=True).to(\"cuda\")\n",
        "    \n",
        "    if batched_tokens['input_ids'].shape[1] > 512:\n",
        "        print(\"Large Sample Encountered\")\n",
        "        continue\n",
        "\n",
        "    with torch.no_grad():\n",
        "        generated_ids = model.generate(**batched_tokens, num_beams=5, num_return_sequences=1)\n",
        "    \n",
        "    generated_texts = tokenizer.batch_decode(generated_ids, skip_special_tokens=True) \n",
        "\n",
        "\n",
        "    for txt in original_english[start:end]:\n",
        "        infos.append(\n",
        "            {\n",
        "                \"text\":txt,\n",
        "                \"label\":0\n",
        "            }\n",
        "        )\n",
        "    \n",
        "    for txt in generated_texts:\n",
        "        infos.append(\n",
        "            {\n",
        "                \"text\":txt,\n",
        "                \"label\":1\n",
        "            }\n",
        "        )"
      ],
      "metadata": {
        "id": "5FntGo2jCO8h"
      },
      "execution_count": null,
      "outputs": []
    },
    {
      "cell_type": "code",
      "source": [
        "df_final = pd.DataFrame(infos)"
      ],
      "metadata": {
        "id": "J6sl_VOoCOva"
      },
      "execution_count": null,
      "outputs": []
    },
    {
      "cell_type": "code",
      "source": [
        "len(df_final)"
      ],
      "metadata": {
        "id": "M0GzYkObCOsM"
      },
      "execution_count": null,
      "outputs": []
    },
    {
      "cell_type": "code",
      "source": [
        "df_final.to_csv(\"./labelled_data_from_fr.csv\", index=False)"
      ],
      "metadata": {
        "id": "wbwt-PCNCOoo"
      },
      "execution_count": null,
      "outputs": []
    },
    {
      "cell_type": "code",
      "source": [],
      "metadata": {
        "id": "s4RyK5_vCOlV"
      },
      "execution_count": null,
      "outputs": []
    },
    {
      "cell_type": "code",
      "source": [],
      "metadata": {
        "id": "v5fFV4mOCOiU"
      },
      "execution_count": null,
      "outputs": []
    },
    {
      "cell_type": "code",
      "source": [],
      "metadata": {
        "id": "nGUKmRseCOfD"
      },
      "execution_count": null,
      "outputs": []
    },
    {
      "cell_type": "code",
      "source": [],
      "metadata": {
        "id": "FpmiG5EtCOb_"
      },
      "execution_count": null,
      "outputs": []
    },
    {
      "cell_type": "code",
      "source": [],
      "metadata": {
        "id": "8D2o1c48COY3"
      },
      "execution_count": null,
      "outputs": []
    },
    {
      "cell_type": "code",
      "source": [],
      "metadata": {
        "id": "DlUYXUjdCOWD"
      },
      "execution_count": null,
      "outputs": []
    },
    {
      "cell_type": "code",
      "source": [],
      "metadata": {
        "id": "JpIYjuOvCOSe"
      },
      "execution_count": null,
      "outputs": []
    },
    {
      "cell_type": "code",
      "source": [],
      "metadata": {
        "id": "estVuB75GtgZ"
      },
      "execution_count": null,
      "outputs": []
    }
  ]
}