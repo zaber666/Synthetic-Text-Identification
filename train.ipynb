{
  "nbformat": 4,
  "nbformat_minor": 0,
  "metadata": {
    "colab": {
      "provenance": []
    },
    "kernelspec": {
      "name": "python3",
      "display_name": "Python 3"
    },
    "language_info": {
      "name": "python"
    }
  },
  "cells": [
    {
      "cell_type": "code",
      "execution_count": null,
      "metadata": {
        "id": "dLHmxkYHCLZj"
      },
      "outputs": [],
      "source": []
    },
    {
      "cell_type": "code",
      "source": [
        "!pip install transformers datasets evaluate"
      ],
      "metadata": {
        "id": "2gqGX5q_CPb9"
      },
      "execution_count": null,
      "outputs": []
    },
    {
      "cell_type": "code",
      "source": [
        "import dask.dataframe as dd\n",
        "from transformers import AutoTokenizer\n",
        "from sklearn.model_selection import train_test_split\n",
        "from datasets import Dataset\n",
        "from transformers import DataCollatorWithPadding\n",
        "import evaluate\n",
        "import numpy as np\n",
        "from transformers import AutoModelForSequenceClassification, TrainingArguments, Trainer\n",
        "import pandas as pd\n",
        "import torch\n",
        "from tqdm import tqdm\n",
        "import os"
      ],
      "metadata": {
        "id": "Uqq_bZCfCPXt"
      },
      "execution_count": null,
      "outputs": []
    },
    {
      "cell_type": "code",
      "source": [
        "!pip install gdown --upgrade --no-cache-dir"
      ],
      "metadata": {
        "id": "P7YLVFcxCPT9"
      },
      "execution_count": null,
      "outputs": []
    },
    {
      "cell_type": "code",
      "source": [
        "!gdown https://drive.google.com/uc?id=1-0H_eBwefHytPeI8MvaK9OCeqbJOnkvQ"
      ],
      "metadata": {
        "id": "f-YwFTNiCPQU"
      },
      "execution_count": null,
      "outputs": []
    },
    {
      "cell_type": "code",
      "source": [
        "!gdown https://drive.google.com/uc?id=1-2HnVeEO8xkgDA9H3cOLCUUIG7W2cSOZ"
      ],
      "metadata": {
        "id": "GPUlZ1G0I7cH"
      },
      "execution_count": null,
      "outputs": []
    },
    {
      "cell_type": "code",
      "source": [
        "!gdown https://drive.google.com/uc?id=1-2gzBfy_33vZalt4qqL3ltg2wq--LLEM"
      ],
      "metadata": {
        "id": "p9JlJlM8I8FQ"
      },
      "execution_count": null,
      "outputs": []
    },
    {
      "cell_type": "code",
      "source": [
        "df = dd.read_csv(\"labelled_data_*.csv\")"
      ],
      "metadata": {
        "id": "Nwy-b6PkCPNF"
      },
      "execution_count": null,
      "outputs": []
    },
    {
      "cell_type": "code",
      "source": [
        "df = df.compute()\n",
        "df = df.reset_index(drop=True)"
      ],
      "metadata": {
        "id": "mKRvqpplCPJz"
      },
      "execution_count": null,
      "outputs": []
    },
    {
      "cell_type": "code",
      "source": [
        "df.head()"
      ],
      "metadata": {
        "id": "NTye5B9sD7sX"
      },
      "execution_count": null,
      "outputs": []
    },
    {
      "cell_type": "code",
      "source": [
        "device = \"cuda\" if torch.cuda.is_available() else \"cpu\""
      ],
      "metadata": {
        "id": "Kkp0GAO-CPG4"
      },
      "execution_count": null,
      "outputs": []
    },
    {
      "cell_type": "code",
      "source": [
        "tokenizer = AutoTokenizer.from_pretrained(\"distilbert-base-uncased\")"
      ],
      "metadata": {
        "id": "gpqzqLiiCPDQ"
      },
      "execution_count": null,
      "outputs": []
    },
    {
      "cell_type": "code",
      "source": [
        "train_idx, test_idx = train_test_split(list(range(len(df))), test_size = 0.2, stratify = df.label)"
      ],
      "metadata": {
        "id": "MzWfj0h0CPAB"
      },
      "execution_count": null,
      "outputs": []
    },
    {
      "cell_type": "code",
      "source": [
        "train_ds = Dataset.from_pandas(df.loc[train_idx,:], split = \"train\")\n",
        "test_ds = Dataset.from_pandas(df.loc[test_idx,:], split = \"test\")"
      ],
      "metadata": {
        "id": "5FntGo2jCO8h"
      },
      "execution_count": null,
      "outputs": []
    },
    {
      "cell_type": "code",
      "source": [
        "def preprocess_function(examples):\n",
        "    return tokenizer(examples[\"text\"], truncation=True)"
      ],
      "metadata": {
        "id": "J6sl_VOoCOva"
      },
      "execution_count": null,
      "outputs": []
    },
    {
      "cell_type": "code",
      "source": [
        "tokenized_train_ds = train_ds.map(preprocess_function)\n",
        "tokenized_test_ds = test_ds.map(preprocess_function)"
      ],
      "metadata": {
        "id": "M0GzYkObCOsM"
      },
      "execution_count": null,
      "outputs": []
    },
    {
      "cell_type": "code",
      "source": [
        "data_collator = DataCollatorWithPadding(tokenizer=tokenizer)"
      ],
      "metadata": {
        "id": "wbwt-PCNCOoo"
      },
      "execution_count": null,
      "outputs": []
    },
    {
      "cell_type": "code",
      "source": [
        "accuracy = evaluate.load(\"accuracy\")\n",
        "roc_auc = evaluate.load(\"roc_auc\")\n",
        "f1 = evaluate.load(\"f1\")\n",
        "recall = evaluate.load(\"recall\")\n",
        "precision = evaluate.load(\"precision\")"
      ],
      "metadata": {
        "id": "s4RyK5_vCOlV"
      },
      "execution_count": null,
      "outputs": []
    },
    {
      "cell_type": "code",
      "source": [
        "def compute_metrics(eval_pred):\n",
        "    predictions, labels = eval_pred\n",
        "    predictions = np.argmax(predictions, axis=1)\n",
        "    acc_score =  accuracy.compute(predictions=predictions, references=labels)\n",
        "    roc_score = roc_auc.compute(prediction_scores=predictions, references=labels)\n",
        "    f1_score = f1.compute(predictions=predictions, references=labels)\n",
        "    recall_score = recall.compute(predictions=predictions, references=labels)\n",
        "    precision_score = precision.compute(predictions=predictions, references=labels)\n",
        "    # return {'accuracy': acc_score['accuracy'], \"roc_auc\":roc_score['roc_auc'], \"f1\":f1_score, \"recall\" : recall_score, \"precision\" : precision_score}\n",
        "    return {**acc_score,**roc_score,**f1_score,**recall_score, **precision_score}"
      ],
      "metadata": {
        "id": "v5fFV4mOCOiU"
      },
      "execution_count": null,
      "outputs": []
    },
    {
      "cell_type": "code",
      "source": [
        "id2label = {0: \"NEGATIVE\", 1: \"POSITIVE\"}\n",
        "label2id = {\"NEGATIVE\": 0, \"POSITIVE\": 1}"
      ],
      "metadata": {
        "id": "nGUKmRseCOfD"
      },
      "execution_count": null,
      "outputs": []
    },
    {
      "cell_type": "code",
      "source": [
        "model = AutoModelForSequenceClassification.from_pretrained(\n",
        "    \"distilbert-base-uncased\", num_labels=2, id2label=id2label, label2id=label2id\n",
        ");"
      ],
      "metadata": {
        "id": "FpmiG5EtCOb_"
      },
      "execution_count": null,
      "outputs": []
    },
    {
      "cell_type": "code",
      "source": [
        "training_args = TrainingArguments(\n",
        "    output_dir=\"./Fake_Text_Detection\",\n",
        "    learning_rate=2e-5,\n",
        "    per_device_train_batch_size=64,\n",
        "    per_device_eval_batch_size=64,\n",
        "    num_train_epochs=5,\n",
        "    weight_decay=0.01,\n",
        "    evaluation_strategy=\"epoch\",\n",
        "    save_strategy=\"epoch\",\n",
        "    load_best_model_at_end=True,\n",
        "    logging_steps = 5000,\n",
        ")\n",
        "training_args;"
      ],
      "metadata": {
        "id": "8D2o1c48COY3"
      },
      "execution_count": null,
      "outputs": []
    },
    {
      "cell_type": "code",
      "source": [
        "trainer = Trainer(\n",
        "    model=model,\n",
        "    args=training_args,\n",
        "    train_dataset=tokenized_train_ds,\n",
        "    eval_dataset=tokenized_test_ds,\n",
        "    tokenizer=tokenizer,\n",
        "    data_collator=data_collator,\n",
        "    compute_metrics=compute_metrics,\n",
        ")\n",
        "# trainer.add_callback(CustomCallback(trainer))\n",
        "trainer.train()"
      ],
      "metadata": {
        "id": "DlUYXUjdCOWD"
      },
      "execution_count": null,
      "outputs": []
    },
    {
      "cell_type": "code",
      "source": [],
      "metadata": {
        "id": "JpIYjuOvCOSe"
      },
      "execution_count": null,
      "outputs": []
    },
    {
      "cell_type": "code",
      "source": [
        "%tensorboard --logdir ./Fake_Text_Detection/runs"
      ],
      "metadata": {
        "id": "estVuB75GtgZ"
      },
      "execution_count": null,
      "outputs": []
    }
  ]
}